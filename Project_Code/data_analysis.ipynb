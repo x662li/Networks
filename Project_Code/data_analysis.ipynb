{
 "cells": [
  {
   "cell_type": "code",
   "execution_count": null,
   "metadata": {},
   "outputs": [],
   "source": [
    "import numpy as np\n",
    "import pandas as pd\n",
    "import matplotlib.pyplot as plt"
   ]
  },
  {
   "cell_type": "code",
   "execution_count": null,
   "metadata": {},
   "outputs": [],
   "source": [
    "r1_qSize = pd.read_csv('./data/r1_qSize.csv')\n",
    "r2_qSize = pd.read_csv('./data/r2_qSize.csv')\n",
    "avg_delay = pd.read_csv('./data/avg_delay.csv')\n",
    "drop_rate = pd.read_csv('./data/drop_rate.csv')"
   ]
  },
  {
   "cell_type": "code",
   "execution_count": null,
   "metadata": {},
   "outputs": [],
   "source": [
    "r1_qSize.columns, avg_delay.columns, drop_rate.columns"
   ]
  },
  {
   "cell_type": "code",
   "execution_count": null,
   "metadata": {},
   "outputs": [],
   "source": [
    "plt.plot(r1_qSize['time'], r1_qSize['q_size'])\n",
    "plt.plot(r1_qSize['time'], r1_qSize['avg_q_size'])\n",
    "plt.show()\n",
    "plt.plot(r2_qSize['time'], r2_qSize['q_size'])\n",
    "plt.plot(r2_qSize['time'], r2_qSize['avg_q_size'])\n",
    "plt.show()\n",
    "plt.plot(avg_delay['time'], avg_delay['avg_delay'])\n",
    "delay_avg = [np.mean(avg_delay['avg_delay'])] * len(avg_delay['time'])\n",
    "plt.plot(avg_delay['time'], delay_avg, color='red')\n",
    "plt.show()\n",
    "plt.plot(drop_rate['time'], drop_rate['drop_rate'])\n",
    "drop_rate_avg = [np.mean(drop_rate['drop_rate'])] * len(drop_rate['time'])\n",
    "plt.plot(drop_rate['time'], drop_rate_avg, color='red')\n",
    "plt.show()"
   ]
  },
  {
   "cell_type": "code",
   "execution_count": null,
   "metadata": {},
   "outputs": [],
   "source": [
    "379/1040, 555/1699"
   ]
  }
 ],
 "metadata": {
  "kernelspec": {
   "display_name": "Python 3.8.9 64-bit",
   "language": "python",
   "name": "python3"
  },
  "language_info": {
   "codemirror_mode": {
    "name": "ipython",
    "version": 3
   },
   "file_extension": ".py",
   "mimetype": "text/x-python",
   "name": "python",
   "nbconvert_exporter": "python",
   "pygments_lexer": "ipython3",
   "version": "3.8.9"
  },
  "orig_nbformat": 4,
  "vscode": {
   "interpreter": {
    "hash": "31f2aee4e71d21fbe5cf8b01ff0e069b9275f58929596ceb00d14d90e3e16cd6"
   }
  }
 },
 "nbformat": 4,
 "nbformat_minor": 2
}
